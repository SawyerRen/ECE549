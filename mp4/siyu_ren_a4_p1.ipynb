{
 "cells": [
  {
   "cell_type": "markdown",
   "metadata": {},
   "source": [
    "# Part 3: Single-View Geometry\n",
    "\n",
    "## Usage\n",
    "This code snippet provides an overall code structure and some interactive plot interfaces for the *Single-View Geometry* section of Assignment 3. In [main function](#Main-function), we outline the required functionalities step by step. Some of the functions which involves interactive plots are already provided, but [the rest](#Your-implementation) are left for you to implement.\n",
    "\n",
    "## Package installation\n",
    "- In this code, we use `tkinter` package. Installation instruction can be found [here](https://anaconda.org/anaconda/tk)."
   ]
  },
  {
   "cell_type": "markdown",
   "metadata": {},
   "source": [
    "# Common imports"
   ]
  },
  {
   "cell_type": "code",
   "execution_count": 86,
   "metadata": {},
   "outputs": [],
   "source": [
    "% matplotlib tk\n",
    "import matplotlib.pyplot as plt\n",
    "import numpy as np\n",
    "\n",
    "from PIL import Image"
   ]
  },
  {
   "cell_type": "markdown",
   "metadata": {},
   "source": [
    "# Provided functions"
   ]
  },
  {
   "cell_type": "code",
   "execution_count": 88,
   "metadata": {},
   "outputs": [],
   "source": [
    "def get_input_lines(im, min_lines=3):\n",
    "    \"\"\"\n",
    "    Allows user to input line segments; computes centers and directions.\n",
    "    Inputs:\n",
    "        im: np.ndarray of shape (height, width, 3)\n",
    "        min_lines: minimum number of lines required\n",
    "    Returns:\n",
    "        n: number of lines from input\n",
    "        lines: np.ndarray of shape (3, n)\n",
    "            where each column denotes the parameters of the line equation\n",
    "        centers: np.ndarray of shape (3, n)\n",
    "            where each column denotes the homogeneous coordinates of the centers\n",
    "    \"\"\"\n",
    "    n = 0\n",
    "    lines = np.zeros((3, 0))\n",
    "    centers = np.zeros((3, 0))\n",
    "\n",
    "    plt.figure()\n",
    "    plt.imshow(im)\n",
    "    plt.show()\n",
    "    print('Set at least %d lines to compute vanishing point' % min_lines)\n",
    "    while True:\n",
    "        print('Click the two endpoints, use the right key to undo, and use the middle key to stop input')\n",
    "        clicked = plt.ginput(2, timeout=0, show_clicks=True)\n",
    "        if not clicked or len(clicked) < 2:\n",
    "            if n < min_lines:\n",
    "                print('Need at least %d lines, you have %d now' % (min_lines, n))\n",
    "                continue\n",
    "            else:\n",
    "                # Stop getting lines if number of lines is enough\n",
    "                break\n",
    "\n",
    "        # Unpack user inputs and save as homogeneous coordinates\n",
    "        pt1 = np.array([clicked[0][0], clicked[0][1], 1])\n",
    "        pt2 = np.array([clicked[1][0], clicked[1][1], 1])\n",
    "        # Get line equation using cross product\n",
    "        # Line equation: line[0] * x + line[1] * y + line[2] = 0\n",
    "        line = np.cross(pt1, pt2)\n",
    "        lines = np.append(lines, line.reshape((3, 1)), axis=1)\n",
    "        # Get center coordinate of the line segment\n",
    "        center = (pt1 + pt2) / 2\n",
    "        centers = np.append(centers, center.reshape((3, 1)), axis=1)\n",
    "\n",
    "        # Plot line segment\n",
    "        plt.plot([pt1[0], pt2[0]], [pt1[1], pt2[1]], color='b')\n",
    "\n",
    "        n += 1\n",
    "\n",
    "    return n, lines, centers"
   ]
  },
  {
   "cell_type": "code",
   "execution_count": 87,
   "metadata": {},
   "outputs": [],
   "source": [
    "def plot_lines_and_vp(im, lines, vp):\n",
    "    \"\"\"\n",
    "    Plots user-input lines and the calculated vanishing point.\n",
    "    Inputs:\n",
    "        im: np.ndarray of shape (height, width, 3)\n",
    "        lines: np.ndarray of shape (3, n)\n",
    "            where each column denotes the parameters of the line equation\n",
    "        vp: np.ndarray of shape (3, )\n",
    "    \"\"\"\n",
    "    bx1 = min(1, vp[0] / vp[2]) - 10\n",
    "    bx2 = max(im.shape[1], vp[0] / vp[2]) + 10\n",
    "    by1 = min(1, vp[1] / vp[2]) - 10\n",
    "    by2 = max(im.shape[0], vp[1] / vp[2]) + 10\n",
    "\n",
    "    plt.figure()\n",
    "    plt.imshow(im)\n",
    "    for i in range(lines.shape[1]):\n",
    "        if lines[0, i] < lines[1, i]:\n",
    "            pt1 = np.cross(np.array([1, 0, -bx1]), lines[:, i])\n",
    "            pt2 = np.cross(np.array([1, 0, -bx2]), lines[:, i])\n",
    "        else:\n",
    "            pt1 = np.cross(np.array([0, 1, -by1]), lines[:, i])\n",
    "            pt2 = np.cross(np.array([0, 1, -by2]), lines[:, i])\n",
    "        pt1 = pt1 / pt1[2]\n",
    "        pt2 = pt2 / pt2[2]\n",
    "        plt.plot([pt1[0], pt2[0]], [pt1[1], pt2[1]], 'g')\n",
    "\n",
    "    plt.plot(vp[0] / vp[2], vp[1] / vp[2], 'ro')\n",
    "    plt.show()"
   ]
  },
  {
   "cell_type": "code",
   "execution_count": 89,
   "metadata": {},
   "outputs": [],
   "source": [
    "def get_top_and_bottom_coordinates(im, obj):\n",
    "    \"\"\"\n",
    "    For a specific object, prompts user to record the top coordinate and the bottom coordinate in the image.\n",
    "    Inputs:\n",
    "        im: np.ndarray of shape (height, width, 3)\n",
    "        obj: string, object name\n",
    "    Returns:\n",
    "        coord: np.ndarray of shape (3, 2)\n",
    "            where coord[:, 0] is the homogeneous coordinate of the top of the object and coord[:, 1] is the homogeneous\n",
    "            coordinate of the bottom\n",
    "    \"\"\"\n",
    "    plt.figure()\n",
    "    plt.imshow(im)\n",
    "\n",
    "    print('Click on the top coordinate of %s' % obj)\n",
    "    clicked = plt.ginput(1, timeout=0, show_clicks=True)\n",
    "    x1, y1 = clicked[0]\n",
    "    # Uncomment this line to enable a vertical line to help align the two coordinates\n",
    "    # plt.plot([x1, x1], [0, im.shape[0]], 'b')\n",
    "    print('Click on the bottom coordinate of %s' % obj)\n",
    "    clicked = plt.ginput(1, timeout=0, show_clicks=True)\n",
    "    x2, y2 = clicked[0]\n",
    "\n",
    "    plt.plot([x1, x2], [y1, y2], 'b')\n",
    "\n",
    "    return np.array([[x1, x2], [y1, y2], [1, 1]])"
   ]
  },
  {
   "cell_type": "markdown",
   "metadata": {},
   "source": [
    "# Your implementation"
   ]
  },
  {
   "cell_type": "code",
   "execution_count": 90,
   "metadata": {},
   "outputs": [],
   "source": [
    "def get_vanishing_point(lines):\n",
    "    \"\"\"\n",
    "    Solves for the vanishing point using the user-input lines.\n",
    "    \"\"\"\n",
    "    s = lines.dot(lines.T)\n",
    "    w, v = np.linalg.eig(s)\n",
    "    min_index = np.argmin(w)\n",
    "    point = v[:, min_index]\n",
    "    point = point / point[-1]\n",
    "    return point"
   ]
  },
  {
   "cell_type": "code",
   "execution_count": 91,
   "metadata": {},
   "outputs": [],
   "source": [
    "def get_horizon_line(points):\n",
    "    \"\"\"\n",
    "    Calculates the ground horizon line.\n",
    "    \"\"\"\n",
    "    p1 = points[:, 0]\n",
    "    p2 = points[:, 1]\n",
    "    line = np.cross(p1, p2)\n",
    "    norm = np.sqrt(line[0] ** 2 + line[1] ** 2)\n",
    "    return line / norm"
   ]
  },
  {
   "cell_type": "code",
   "execution_count": 92,
   "metadata": {},
   "outputs": [],
   "source": [
    "def plot_horizon_line(image, line):\n",
    "    \"\"\"\n",
    "    Plots the horizon line.\n",
    "    \"\"\"\n",
    "    r = image.shape[1]\n",
    "    x = np.arange(r)\n",
    "    y = (-line[2] - line[0] * x) / line[1]\n",
    "    plt.figure()\n",
    "    plt.imshow(image)\n",
    "    plt.plot(x, y)\n",
    "    plt.show()"
   ]
  },
  {
   "cell_type": "code",
   "execution_count": 93,
   "metadata": {},
   "outputs": [],
   "source": [
    "from sympy import solve, symbols, Matrix, Symbol\n",
    "\n",
    "\n",
    "def get_camera_parameters(vpts):\n",
    "    \"\"\"\n",
    "    Computes the camera parameters. Hint: The SymPy package is suitable for this.\n",
    "    \"\"\"\n",
    "    f = Symbol('f')\n",
    "    u = Symbol('u')\n",
    "    v = Symbol('v')\n",
    "    v1 = Matrix(vpts[:, 0])\n",
    "    v2 = Matrix(vpts[:, 1])\n",
    "    v3 = Matrix(vpts[:, 2])\n",
    "\n",
    "    inverse_K = Matrix(((f, 0, u), (0, f, v), (0, 0, 1))).inv()\n",
    "\n",
    "    e12 = v1.T * inverse_K.T * inverse_K * v2\n",
    "    e13 = v1.T * inverse_K.T * inverse_K * v3\n",
    "    e23 = v2.T * inverse_K.T * inverse_K * v3\n",
    "    sol = solve([e12, e13, e23], [f, u, v])\n",
    "    f = sol[0][0]\n",
    "    u = sol[0][1]\n",
    "    v = sol[0][2]\n",
    "    return abs(f), u, v"
   ]
  },
  {
   "cell_type": "code",
   "execution_count": 94,
   "metadata": {},
   "outputs": [],
   "source": [
    "def get_rotation_matrix(vpts, K):\n",
    "    \"\"\"\n",
    "    Computes the rotation matrix using the camera parameters.\n",
    "    \"\"\"\n",
    "    Y_dir = vpts[:, 2][:, np.newaxis]\n",
    "    X_dir = vpts[:, 1][:, np.newaxis]\n",
    "    Z_dir = vpts[:, 0][:, np.newaxis]\n",
    "\n",
    "    inverse_K = np.array(K.inv()).astype(np.float)\n",
    "\n",
    "    r1 = inverse_K.dot(X_dir)\n",
    "    r2 = inverse_K.dot(Y_dir)\n",
    "    r3 = inverse_K.dot(Z_dir)\n",
    "\n",
    "    r1 = r1 / np.linalg.norm(r1)\n",
    "    r2 = r2 / np.linalg.norm(r2)\n",
    "    r3 = r3 / np.linalg.norm(r3)\n",
    "\n",
    "    R = np.concatenate((r1, r2, r3), axis=1)\n",
    "    return R"
   ]
  },
  {
   "cell_type": "code",
   "execution_count": 95,
   "metadata": {},
   "outputs": [],
   "source": [
    "def estimate_height(vpts, reference_height, reference_coord, obj_coord, horizon_line):\n",
    "    \"\"\"\n",
    "    Estimates height for a specific object using the recorded coordinates. You might need to plot additional images here for\n",
    "    your report.\n",
    "    \"\"\"\n",
    "    p = vpts[:, 2]\n",
    "    t0 = reference_coord[:, 0]\n",
    "    b0 = reference_coord[:, 1]\n",
    "\n",
    "    r = obj_coord[:, 0]\n",
    "    b = obj_coord[:, 1]\n",
    "\n",
    "    v = np.cross(np.cross(b0, b), horizon_line)\n",
    "    v = v / v[-1]\n",
    "\n",
    "    t = np.cross(np.cross(v, t0), np.cross(r, b))\n",
    "    t = t / t[-1]\n",
    "\n",
    "    height = reference_height * (np.linalg.norm(r - b) * np.linalg.norm(p - t) /\n",
    "                                 np.linalg.norm(t - b) / np.linalg.norm(p - r))\n",
    "\n",
    "    return height"
   ]
  },
  {
   "cell_type": "markdown",
   "metadata": {},
   "source": [
    "# Main function"
   ]
  },
  {
   "cell_type": "code",
   "execution_count": 96,
   "metadata": {},
   "outputs": [
    {
     "name": "stdout",
     "output_type": "stream",
     "text": [
      "Getting vanishing point 0\n",
      "Set at least 3 lines to compute vanishing point\n",
      "Click the two endpoints, use the right key to undo, and use the middle key to stop input\n",
      "Click the two endpoints, use the right key to undo, and use the middle key to stop input\n",
      "Click the two endpoints, use the right key to undo, and use the middle key to stop input\n",
      "Click the two endpoints, use the right key to undo, and use the middle key to stop input\n",
      "coordinates:  [-235.30547912  212.01324009    1.        ]\n",
      "Getting vanishing point 1\n",
      "Set at least 3 lines to compute vanishing point\n",
      "Click the two endpoints, use the right key to undo, and use the middle key to stop input\n",
      "Click the two endpoints, use the right key to undo, and use the middle key to stop input\n",
      "Click the two endpoints, use the right key to undo, and use the middle key to stop input\n",
      "Click the two endpoints, use the right key to undo, and use the middle key to stop input\n",
      "coordinates:  [1.31075114e+03 2.19943040e+02 1.00000000e+00]\n",
      "Getting vanishing point 2\n",
      "Set at least 3 lines to compute vanishing point\n",
      "Click the two endpoints, use the right key to undo, and use the middle key to stop input\n",
      "Click the two endpoints, use the right key to undo, and use the middle key to stop input\n",
      "Click the two endpoints, use the right key to undo, and use the middle key to stop input\n",
      "Click the two endpoints, use the right key to undo, and use the middle key to stop input\n",
      "Click the two endpoints, use the right key to undo, and use the middle key to stop input\n",
      "coordinates:  [4.93551618e+02 1.21843891e+04 1.00000000e+00]\n",
      "[-5.12898158e-03  9.99986847e-01 -2.13217329e+02]\n"
     ]
    },
    {
     "name": "stderr",
     "output_type": "stream",
     "text": [
      "C:\\Users\\rensy\\AppData\\Local\\Temp\\ipykernel_12480\\454980637.py:24: RuntimeWarning: divide by zero encountered in true_divide\n",
      "  pt1 = pt1 / pt1[2]\n",
      "C:\\Users\\rensy\\AppData\\Local\\Temp\\ipykernel_12480\\454980637.py:24: RuntimeWarning: invalid value encountered in true_divide\n",
      "  pt1 = pt1 / pt1[2]\n",
      "C:\\Users\\rensy\\AppData\\Local\\Temp\\ipykernel_12480\\454980637.py:25: RuntimeWarning: divide by zero encountered in true_divide\n",
      "  pt2 = pt2 / pt2[2]\n",
      "C:\\Users\\rensy\\AppData\\Local\\Temp\\ipykernel_12480\\454980637.py:25: RuntimeWarning: invalid value encountered in true_divide\n",
      "  pt2 = pt2 / pt2[2]\n"
     ]
    }
   ],
   "source": [
    "im = np.asarray(Image.open('CSL.jpeg'))\n",
    "\n",
    "# Part 1\n",
    "# Get vanishing points for each of the directions\n",
    "num_vpts = 3\n",
    "vpts = np.zeros((3, num_vpts))\n",
    "for i in range(num_vpts):\n",
    "    print('Getting vanishing point %d' % i)\n",
    "    # Get at least three lines from user input\n",
    "    n, lines, centers = get_input_lines(im)\n",
    "    # <YOUR IMPLEMENTATION> Solve for vanishing point\n",
    "    vpts[:, i] = get_vanishing_point(lines)\n",
    "    print(\"coordinates: \", vpts[:, i])\n",
    "    # Plot the lines and the vanishing point\n",
    "    plot_lines_and_vp(im, lines, vpts[:, i])\n",
    "\n",
    "# <YOUR IMPLEMENTATION> Get the ground horizon line\n",
    "horizon_line = get_horizon_line(vpts)\n",
    "print(horizon_line)\n",
    "# <YOUR IMPLEMENTATION> Plot the ground horizon line\n",
    "plot_horizon_line(im, horizon_line)"
   ]
  },
  {
   "cell_type": "code",
   "execution_count": 97,
   "metadata": {},
   "outputs": [
    {
     "name": "stdout",
     "output_type": "stream",
     "text": [
      "f = 771.233799695055, u = 554.681767883752, v = 265.971208360832\n",
      "[[ 0.69941661 -0.00511828 -0.71469589]\n",
      " [-0.04257925  0.99789983 -0.04881539]\n",
      " [ 0.71344476  0.06457351  0.69772978]]\n",
      "Click on the top coordinate of person\n"
     ]
    },
    {
     "name": "stderr",
     "output_type": "stream",
     "text": [
      "C:\\Users\\rensy\\AppData\\Local\\Temp\\ipykernel_12480\\2929713052.py:9: DeprecationWarning: `np.float` is a deprecated alias for the builtin `float`. To silence this warning, use `float` by itself. Doing this will not modify any behavior and is safe. If you specifically wanted the numpy scalar type, use `np.float64` here.\n",
      "Deprecated in NumPy 1.20; for more details and guidance: https://numpy.org/devdocs/release/1.20.0-notes.html#deprecations\n",
      "  inverse_K = np.array(K.inv()).astype(np.float)\n"
     ]
    },
    {
     "name": "stdout",
     "output_type": "stream",
     "text": [
      "Click on the bottom coordinate of person\n",
      "Click on the top coordinate of CSL building\n",
      "Click on the bottom coordinate of CSL building\n",
      "Click on the top coordinate of the spike statue\n",
      "Click on the bottom coordinate of the spike statue\n",
      "Click on the top coordinate of the lamp posts\n",
      "Click on the bottom coordinate of the lamp posts\n",
      "Estimating height of CSL building\n",
      "Height of CSL building is 1041.235449646049\n",
      "Estimating height of the spike statue\n",
      "Height of the spike statue is 358.99447359410595\n",
      "Estimating height of the lamp posts\n",
      "Height of the lamp posts is 164.47121356304896\n",
      "Estimating height of CSL building\n",
      "Height of CSL building is 1135.8932177956897\n",
      "Estimating height of the spike statue\n",
      "Height of the spike statue is 391.63033482993376\n",
      "Estimating height of the lamp posts\n",
      "Height of the lamp posts is 179.4231420687807\n"
     ]
    }
   ],
   "source": [
    "\n",
    "# Part 2\n",
    "# <YOUR IMPLEMENTATION> Solve for the camera parameters (f, u, v)\n",
    "f, u, v = get_camera_parameters(vpts)\n",
    "print(\"f = {}, u = {}, v = {}\".format(f, u, v))\n",
    "\n",
    "# Part 3\n",
    "# <YOUR IMPLEMENTATION> Solve for the rotation matrix\n",
    "K = Matrix(((f, 0, u), (0, f, v), (0, 0, 1)))\n",
    "R = get_rotation_matrix(vpts, K)\n",
    "print(R)\n",
    "\n",
    "# Part 4\n",
    "# Record image coordinates for each object and store in map\n",
    "objects = ('person', 'CSL building', 'the spike statue', 'the lamp posts')\n",
    "coords = dict()\n",
    "for obj in objects:\n",
    "    coords[obj] = get_top_and_bottom_coordinates(im, obj)\n",
    "\n",
    "# <YOUR IMPLEMENTATION> Estimate heights\n",
    "reference_height = 66.0\n",
    "# reference_height = 1.6764\n",
    "for obj in objects[1:]:\n",
    "    print('Estimating height of %s' % obj)\n",
    "    height = estimate_height(vpts, reference_height, coords['person'], coords[obj], horizon_line)\n",
    "    print(\"Height of {} is {}\".format(obj, height))\n",
    "\n",
    "reference_height = 72.0\n",
    "# reference_height = 1.8288\n",
    "for obj in objects[1:]:\n",
    "    print('Estimating height of %s' % obj)\n",
    "    height = estimate_height(vpts, reference_height, coords['person'], coords[obj], horizon_line)\n",
    "    print(\"Height of {} is {}\".format(obj, height))"
   ]
  },
  {
   "cell_type": "code",
   "execution_count": 98,
   "metadata": {},
   "outputs": [
    {
     "name": "stdout",
     "output_type": "stream",
     "text": [
      "Click on the top coordinate of person\n",
      "Click on the bottom coordinate of person\n",
      "Click on the top coordinate of person2\n",
      "Click on the bottom coordinate of person2\n",
      "Click on the top coordinate of person3\n",
      "Click on the bottom coordinate of person3\n",
      "Click on the top coordinate of person4\n",
      "Click on the bottom coordinate of person4\n",
      "Estimating height of person2\n",
      "Height of person2 is 56.22517429917324\n",
      "Estimating height of person3\n",
      "Height of person3 is 41.718546216727624\n",
      "Estimating height of person4\n",
      "Height of person4 is 54.53714182078599\n"
     ]
    }
   ],
   "source": [
    "objects = ('person', 'person2', 'person3', 'person4')\n",
    "coords = dict()\n",
    "for obj in objects:\n",
    "    coords[obj] = get_top_and_bottom_coordinates(im, obj)\n",
    "\n",
    "# <YOUR IMPLEMENTATION> Estimate heights\n",
    "reference_height = 66.0\n",
    "# reference_height = 1.6764\n",
    "for obj in objects[1:]:\n",
    "    print('Estimating height of %s' % obj)\n",
    "    height = estimate_height(vpts, reference_height, coords['person'], coords[obj], horizon_line)\n",
    "    print(\"Height of {} is {}\".format(obj, height))"
   ]
  },
  {
   "cell_type": "code",
   "execution_count": null,
   "metadata": {},
   "outputs": [],
   "source": []
  }
 ],
 "metadata": {
  "kernelspec": {
   "display_name": "Python 3 (ipykernel)",
   "language": "python",
   "name": "python3"
  },
  "language_info": {
   "codemirror_mode": {
    "name": "ipython",
    "version": 3
   },
   "file_extension": ".py",
   "mimetype": "text/x-python",
   "name": "python",
   "nbconvert_exporter": "python",
   "pygments_lexer": "ipython3",
   "version": "3.9.13"
  }
 },
 "nbformat": 4,
 "nbformat_minor": 2
}
