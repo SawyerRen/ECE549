{
 "cells": [
  {
   "cell_type": "code",
   "execution_count": 28,
   "metadata": {},
   "outputs": [],
   "source": [
    "import time\n",
    "\n",
    "import numpy as np\n",
    "\n",
    "w = 5  # window size\n",
    "d = 50  # disparity range\n",
    "m = 'ssd'  # matching function: ssd, sad, nc"
   ]
  },
  {
   "cell_type": "code",
   "execution_count": 29,
   "metadata": {},
   "outputs": [
    {
     "name": "stdout",
     "output_type": "stream",
     "text": [
      "(1110, 1390)\n",
      "(5, 5)\n",
      "(25,)\n"
     ]
    }
   ],
   "source": [
    "import cv2\n",
    "\n",
    "im1 = cv2.imread('data/moebius1.png')\n",
    "im1 = cv2.cvtColor(im1, cv2.COLOR_RGB2GRAY)\n",
    "im2 = cv2.imread('data/moebius2.png')\n",
    "im2 = cv2.cvtColor(im2, cv2.COLOR_RGB2GRAY)\n",
    "\n",
    "r, c = im1.shape\n",
    "print(im1.shape)\n",
    "print(im1[0:5, 0:5].shape)\n",
    "print(np.array(im1[0:5, 0:5]).flatten().shape)"
   ]
  },
  {
   "cell_type": "code",
   "execution_count": 30,
   "metadata": {},
   "outputs": [],
   "source": [
    "start_row = int(w / 2)\n",
    "end_row = r - int(w / 2)\n",
    "start_col = int(w / 2)\n",
    "end_col = c - int(w / 2)"
   ]
  },
  {
   "cell_type": "code",
   "execution_count": 31,
   "metadata": {},
   "outputs": [
    {
     "name": "stdout",
     "output_type": "stream",
     "text": [
      "2\n"
     ]
    }
   ],
   "source": [
    "time1 = time.time()\n",
    "desp1 = np.zeros((r, c, w * w))\n",
    "desp2 = np.zeros((r, c, w * w))\n",
    "hw = int(w / 2)\n",
    "print(hw)\n",
    "for i in range(start_row, end_row):\n",
    "    for j in range(start_col, end_col):\n",
    "        for k in range(w * w):\n",
    "            desp1[i, j, k] = im1[i - hw + int(k / w), j - hw + int(k % w)]\n",
    "            desp2[i, j, k] = im2[i - hw + int(k / w), j - hw + int(k % w)]"
   ]
  },
  {
   "cell_type": "code",
   "execution_count": null,
   "metadata": {},
   "outputs": [],
   "source": [
    "depth = np.zeros((r, c))\n",
    "for a in range(start_row, end_row):\n",
    "    for b in range(start_col, end_col):\n",
    "        u = desp1[a, b]\n",
    "        ubar = np.mean(u) * np.ones(w * w)\n",
    "        X = np.zeros((d, 1))\n",
    "        if m == 'nc':\n",
    "            for i in range(d):\n",
    "                if b - i + 1 < start_row:\n",
    "                    X[i] = 0\n",
    "                    continue\n",
    "                v = desp2[a, b - i + 1]\n",
    "                vbar = np.mean(v) * np.ones(w * w)\n",
    "                X[i] = np.sum((u - ubar) * (v - vbar)) / (\n",
    "                        np.sqrt(np.sum((u - ubar) * 2)) * np.sqrt(np.sum((v - vbar) * 2)))\n",
    "            index = np.argmax(X)\n",
    "            x = b - index + 1\n",
    "        elif m == 'ssd':\n",
    "            for i in range(d):\n",
    "                if b - i + 1 < start_row:\n",
    "                    X[i] = 100000\n",
    "                    continue\n",
    "                v = desp2[a, b - i + 1]\n",
    "                X[i] = np.sum((u - v) * 2)\n",
    "            index = np.argmin(X)\n",
    "            x = b - index + 1\n",
    "\n",
    "        if b - x != 0:\n",
    "            depth[a, b] = 1 / (b - x)\n",
    "time2 = time.time() - time1\n",
    "print(depth)\n",
    "\n",
    "import matplotlib.pyplot as plt\n",
    "\n",
    "plt.figure()\n",
    "plt.imshow(depth)\n",
    "file_name = 'results/{}_{}_{}_{}.jpg'.format(w, d, m, time2)\n"
   ]
  },
  {
   "cell_type": "code",
   "execution_count": 27,
   "metadata": {},
   "outputs": [],
   "source": []
  }
 ],
 "metadata": {
  "kernelspec": {
   "display_name": "Python 3 (ipykernel)",
   "language": "python",
   "name": "python3"
  },
  "language_info": {
   "codemirror_mode": {
    "name": "ipython",
    "version": 3
   },
   "file_extension": ".py",
   "mimetype": "text/x-python",
   "name": "python",
   "nbconvert_exporter": "python",
   "pygments_lexer": "ipython3",
   "version": "3.9.13"
  }
 },
 "nbformat": 4,
 "nbformat_minor": 1
}
