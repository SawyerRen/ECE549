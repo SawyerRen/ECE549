{
 "cells": [
  {
   "cell_type": "code",
   "execution_count": 10,
   "metadata": {
    "collapsed": true
   },
   "outputs": [],
   "source": [
    "import time\n",
    "import numpy as np\n",
    "import matplotlib.pyplot as plt\n",
    "import cv2\n",
    "\n",
    "neighbor_size = 2  # width = 2x+1\n",
    "disparity = 1\n",
    "method = 'ssd'"
   ]
  },
  {
   "cell_type": "code",
   "execution_count": 11,
   "outputs": [
    {
     "name": "stdout",
     "output_type": "stream",
     "text": [
      "(288, 384)\n"
     ]
    }
   ],
   "source": [
    "\n",
    "# file = 'moebius'\n",
    "file = 'tsukuba'\n",
    "if file == 'moebius':\n",
    "    file1 = 'moebius1.png'\n",
    "    file2 = 'moebius2.png'\n",
    "else:\n",
    "    file1 = 'tsukuba1.jpg'\n",
    "    file2 = 'tsukuba2.jpg'\n",
    "\n",
    "file_name1 = 'data/{}'.format(file1)\n",
    "file_name2 = 'data/{}'.format(file2)\n",
    "input_left = cv2.imread(file_name1, 0)\n",
    "input_right = cv2.imread(file_name2, 0)\n",
    "\n",
    "height, width = input_left.shape\n",
    "print(input_left.shape)"
   ],
   "metadata": {
    "collapsed": false
   }
  },
  {
   "cell_type": "code",
   "execution_count": 12,
   "outputs": [
    {
     "ename": "ValueError",
     "evalue": "attempt to get argmin of an empty sequence",
     "output_type": "error",
     "traceback": [
      "\u001B[1;31m---------------------------------------------------------------------------\u001B[0m",
      "\u001B[1;31mValueError\u001B[0m                                Traceback (most recent call last)",
      "\u001B[1;32m~\\AppData\\Local\\Temp\\ipykernel_10996\\2591065836.py\u001B[0m in \u001B[0;36m<module>\u001B[1;34m\u001B[0m\n\u001B[0;32m     47\u001B[0m         \u001B[0mindex\u001B[0m \u001B[1;33m=\u001B[0m \u001B[1;36m0\u001B[0m\u001B[1;33m\u001B[0m\u001B[1;33m\u001B[0m\u001B[0m\n\u001B[0;32m     48\u001B[0m         \u001B[1;32mif\u001B[0m \u001B[0mmethod\u001B[0m \u001B[1;33m==\u001B[0m \u001B[1;34m'ssd'\u001B[0m\u001B[1;33m:\u001B[0m\u001B[1;33m\u001B[0m\u001B[1;33m\u001B[0m\u001B[0m\n\u001B[1;32m---> 49\u001B[1;33m             \u001B[0mindex\u001B[0m \u001B[1;33m=\u001B[0m \u001B[0mnp\u001B[0m\u001B[1;33m.\u001B[0m\u001B[0margmin\u001B[0m\u001B[1;33m(\u001B[0m\u001B[0mnp\u001B[0m\u001B[1;33m.\u001B[0m\u001B[0marray\u001B[0m\u001B[1;33m(\u001B[0m\u001B[0msimilarity\u001B[0m\u001B[1;33m)\u001B[0m\u001B[1;33m)\u001B[0m\u001B[1;33m\u001B[0m\u001B[1;33m\u001B[0m\u001B[0m\n\u001B[0m\u001B[0;32m     50\u001B[0m         \u001B[1;32melif\u001B[0m \u001B[0mmethod\u001B[0m \u001B[1;33m==\u001B[0m \u001B[1;34m'nc'\u001B[0m\u001B[1;33m:\u001B[0m\u001B[1;33m\u001B[0m\u001B[1;33m\u001B[0m\u001B[0m\n\u001B[0;32m     51\u001B[0m             \u001B[0mindex\u001B[0m \u001B[1;33m=\u001B[0m \u001B[0mnp\u001B[0m\u001B[1;33m.\u001B[0m\u001B[0margmax\u001B[0m\u001B[1;33m(\u001B[0m\u001B[0mnp\u001B[0m\u001B[1;33m.\u001B[0m\u001B[0marray\u001B[0m\u001B[1;33m(\u001B[0m\u001B[0msimilarity\u001B[0m\u001B[1;33m)\u001B[0m\u001B[1;33m)\u001B[0m\u001B[1;33m\u001B[0m\u001B[1;33m\u001B[0m\u001B[0m\n",
      "\u001B[1;32m<__array_function__ internals>\u001B[0m in \u001B[0;36margmin\u001B[1;34m(*args, **kwargs)\u001B[0m\n",
      "\u001B[1;32m~\\anaconda3\\lib\\site-packages\\numpy\\core\\fromnumeric.py\u001B[0m in \u001B[0;36margmin\u001B[1;34m(a, axis, out)\u001B[0m\n\u001B[0;32m   1274\u001B[0m \u001B[1;33m\u001B[0m\u001B[0m\n\u001B[0;32m   1275\u001B[0m     \"\"\"\n\u001B[1;32m-> 1276\u001B[1;33m     \u001B[1;32mreturn\u001B[0m \u001B[0m_wrapfunc\u001B[0m\u001B[1;33m(\u001B[0m\u001B[0ma\u001B[0m\u001B[1;33m,\u001B[0m \u001B[1;34m'argmin'\u001B[0m\u001B[1;33m,\u001B[0m \u001B[0maxis\u001B[0m\u001B[1;33m=\u001B[0m\u001B[0maxis\u001B[0m\u001B[1;33m,\u001B[0m \u001B[0mout\u001B[0m\u001B[1;33m=\u001B[0m\u001B[0mout\u001B[0m\u001B[1;33m)\u001B[0m\u001B[1;33m\u001B[0m\u001B[1;33m\u001B[0m\u001B[0m\n\u001B[0m\u001B[0;32m   1277\u001B[0m \u001B[1;33m\u001B[0m\u001B[0m\n\u001B[0;32m   1278\u001B[0m \u001B[1;33m\u001B[0m\u001B[0m\n",
      "\u001B[1;32m~\\anaconda3\\lib\\site-packages\\numpy\\core\\fromnumeric.py\u001B[0m in \u001B[0;36m_wrapfunc\u001B[1;34m(obj, method, *args, **kwds)\u001B[0m\n\u001B[0;32m     55\u001B[0m \u001B[1;33m\u001B[0m\u001B[0m\n\u001B[0;32m     56\u001B[0m     \u001B[1;32mtry\u001B[0m\u001B[1;33m:\u001B[0m\u001B[1;33m\u001B[0m\u001B[1;33m\u001B[0m\u001B[0m\n\u001B[1;32m---> 57\u001B[1;33m         \u001B[1;32mreturn\u001B[0m \u001B[0mbound\u001B[0m\u001B[1;33m(\u001B[0m\u001B[1;33m*\u001B[0m\u001B[0margs\u001B[0m\u001B[1;33m,\u001B[0m \u001B[1;33m**\u001B[0m\u001B[0mkwds\u001B[0m\u001B[1;33m)\u001B[0m\u001B[1;33m\u001B[0m\u001B[1;33m\u001B[0m\u001B[0m\n\u001B[0m\u001B[0;32m     58\u001B[0m     \u001B[1;32mexcept\u001B[0m \u001B[0mTypeError\u001B[0m\u001B[1;33m:\u001B[0m\u001B[1;33m\u001B[0m\u001B[1;33m\u001B[0m\u001B[0m\n\u001B[0;32m     59\u001B[0m         \u001B[1;31m# A TypeError occurs if the object does have such a method in its\u001B[0m\u001B[1;33m\u001B[0m\u001B[1;33m\u001B[0m\u001B[0m\n",
      "\u001B[1;31mValueError\u001B[0m: attempt to get argmin of an empty sequence"
     ]
    }
   ],
   "source": [
    "def descriptor_range(cur_row, cur_col, max_row, max_col, neighbor_size):\n",
    "    row_range_from = max(0, cur_row - neighbor_size)\n",
    "    row_range_to = min(max_row - 1, cur_row + neighbor_size)\n",
    "    col_range_from = max(0, cur_col - neighbor_size)\n",
    "    col_range_to = min(max_col - 1, cur_col + neighbor_size)\n",
    "    len = (row_range_to - row_range_from + 1) * (col_range_to - col_range_from + 1)\n",
    "    return row_range_from, row_range_to, col_range_from, col_range_to, len\n",
    "\n",
    "\n",
    "def compare_similarity(descriptor_left, descriptor_right, method):\n",
    "    dis = 0\n",
    "    if method == 'ssd':\n",
    "        dis = np.sum((descriptor_left - descriptor_right) * 2) / descriptor_left.shape[1]\n",
    "    elif method == 'nc':\n",
    "        x = descriptor_left - np.mean(descriptor_left)\n",
    "        c = descriptor_right - np.mean(descriptor_right)\n",
    "        x = x / np.sqrt(np.sum(np.sqrt(x)))\n",
    "        c = c / np.sqrt(np.sum(np.sqrt(c)))\n",
    "        dis = x * c\n",
    "    return dis\n",
    "\n",
    "\n",
    "corresponding_point = np.zeros((height, width))\n",
    "depth = np.zeros((height, width))\n",
    "for i in range(height):\n",
    "    for j in range(width):\n",
    "        row_range_from, rwo_range_to, col_range_from, col_range_to, len_left = descriptor_range(i, j, height, width,\n",
    "                                                                                                neighbor_size)\n",
    "        descriptor_left = np.reshape(input_left[row_range_from: rwo_range_to + 1, col_range_from:col_range_to + 1],\n",
    "                                     (1, len_left))\n",
    "        similarity = []\n",
    "        index_list = []\n",
    "        mind = max(-disparity, -col_range_from)\n",
    "        # mind = 0\n",
    "        maxd = min(disparity, width - 1 - col_range_to)\n",
    "        for k in range(mind, maxd + 1):\n",
    "            row_range_from, rwo_range_to, col_range_from, col_range_to, len_right = descriptor_range(i, k, height,\n",
    "                                                                                                     width,\n",
    "                                                                                                     neighbor_size)\n",
    "            if len_left == len_right:\n",
    "                descriptor_right = np.reshape(\n",
    "                    input_left[row_range_from: rwo_range_to + 1, col_range_from:col_range_to + 1],\n",
    "                    (1, len_right))\n",
    "                similarity.append(compare_similarity(descriptor_left, descriptor_right, method))\n",
    "                index_list.append(k)\n",
    "\n",
    "        index = 0\n",
    "        if method == 'ssd':\n",
    "            index = np.argmin(np.array(similarity))\n",
    "        elif method == 'nc':\n",
    "            index = np.argmax(np.array(similarity))\n",
    "\n",
    "        corresponding_point[i, j] = index_list[index]\n",
    "        depth[i, j] = np.abs(j - corresponding_point[i, j])\n",
    "\n",
    "# scaled_depth = (depth - np.min(depth)) / (np.max(depth - np.min(depth)))\n",
    "plt.imshow(depth, cmap='gray_r')"
   ],
   "metadata": {
    "collapsed": false
   }
  },
  {
   "cell_type": "code",
   "execution_count": null,
   "outputs": [],
   "source": [],
   "metadata": {
    "collapsed": false
   }
  }
 ],
 "metadata": {
  "kernelspec": {
   "display_name": "Python 3",
   "language": "python",
   "name": "python3"
  },
  "language_info": {
   "codemirror_mode": {
    "name": "ipython",
    "version": 2
   },
   "file_extension": ".py",
   "mimetype": "text/x-python",
   "name": "python",
   "nbconvert_exporter": "python",
   "pygments_lexer": "ipython2",
   "version": "2.7.6"
  }
 },
 "nbformat": 4,
 "nbformat_minor": 0
}
