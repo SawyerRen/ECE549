{
 "cells": [
  {
   "cell_type": "code",
   "execution_count": 5,
   "metadata": {
    "collapsed": true
   },
   "outputs": [
    {
     "name": "stdout",
     "output_type": "stream",
     "text": [
      "288 384\n"
     ]
    }
   ],
   "source": [
    "import time\n",
    "\n",
    "import matplotlib.pyplot as plt\n",
    "import numpy as np\n",
    "\n",
    "w = 11  # window size\n",
    "d = 15  # disparity range\n",
    "m = 'ssd'  # matching function: ssd, sad, nc\n",
    "\n",
    "import cv2\n",
    "\n",
    "# file = 'moebius'\n",
    "file = 'tsukuba'\n",
    "if file == 'moebius':\n",
    "    file1 = 'moebius1.png'\n",
    "    file2 = 'moebius2.png'\n",
    "else:\n",
    "    file1 = 'tsukuba1.jpg'\n",
    "    file2 = 'tsukuba2.jpg'\n",
    "\n",
    "im1 = cv2.imread('data/{}'.format(file1), flags=0)\n",
    "# im1 = cv2.cvtColor(im1, cv2.COLOR_RGB2GRAY)\n",
    "# im1 = im1.astype(float)\n",
    "im2 = cv2.imread('data/{}'.format(file2),flags= 0)\n",
    "# im2 = cv2.cvtColor(im2, cv2.COLOR_RGB2GRAY)\n",
    "# im2 = im2.astype(float)\n",
    "\n",
    "cv2.imshow('im1', im1)\n",
    "\n",
    "height, width = im1.shape\n",
    "print(height, width)"
   ]
  },
  {
   "cell_type": "code",
   "execution_count": null,
   "outputs": [],
   "source": [],
   "metadata": {
    "collapsed": false
   }
  }
 ],
 "metadata": {
  "kernelspec": {
   "display_name": "Python 3",
   "language": "python",
   "name": "python3"
  },
  "language_info": {
   "codemirror_mode": {
    "name": "ipython",
    "version": 2
   },
   "file_extension": ".py",
   "mimetype": "text/x-python",
   "name": "python",
   "nbconvert_exporter": "python",
   "pygments_lexer": "ipython2",
   "version": "2.7.6"
  }
 },
 "nbformat": 4,
 "nbformat_minor": 0
}
